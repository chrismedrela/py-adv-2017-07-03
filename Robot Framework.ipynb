{
 "cells": [
  {
   "cell_type": "code",
   "execution_count": 1,
   "metadata": {
    "scrolled": true
   },
   "outputs": [
    {
     "name": "stdout",
     "output_type": "stream",
     "text": [
      "Usage: login.py { create | login | change-password | help }\r\n"
     ]
    }
   ],
   "source": [
    "!python3 robotframework-cli/login.py help"
   ]
  },
  {
   "cell_type": "code",
   "execution_count": 2,
   "metadata": {},
   "outputs": [
    {
     "name": "stdout",
     "output_type": "stream",
     "text": [
      "Access Denied\r\n"
     ]
    }
   ],
   "source": [
    "!python3 robotframework-cli/login.py login nobody password"
   ]
  },
  {
   "cell_type": "code",
   "execution_count": 3,
   "metadata": {},
   "outputs": [
    {
     "name": "stdout",
     "output_type": "stream",
     "text": [
      "SUCCESS\r\n"
     ]
    }
   ],
   "source": [
    "!python3 robotframework-cli/login.py create fred fredpA55"
   ]
  },
  {
   "cell_type": "code",
   "execution_count": 4,
   "metadata": {},
   "outputs": [
    {
     "name": "stdout",
     "output_type": "stream",
     "text": [
      "Logged In\r\n"
     ]
    }
   ],
   "source": [
    "!python3 robotframework-cli/login.py login fred fredpA55"
   ]
  },
  {
   "cell_type": "code",
   "execution_count": 5,
   "metadata": {
    "scrolled": true
   },
   "outputs": [
    {
     "name": "stdout",
     "output_type": "stream",
     "text": [
      "Creating user failed: Password must be 7-12 characters long\r\n"
     ]
    }
   ],
   "source": [
    "!python3 robotframework-cli/login.py create bob short"
   ]
  },
  {
   "cell_type": "code",
   "execution_count": 6,
   "metadata": {},
   "outputs": [
    {
     "name": "stdout",
     "output_type": "stream",
     "text": [
      "Creating user failed: Password must be a combination of lowercase and uppercase letters and numbers\r\n"
     ]
    }
   ],
   "source": [
    "!python3 robotframework-cli/login.py create bob invalid"
   ]
  },
  {
   "cell_type": "code",
   "execution_count": 7,
   "metadata": {},
   "outputs": [
    {
     "name": "stdout",
     "output_type": "stream",
     "text": [
      "SUCCESS\r\n"
     ]
    }
   ],
   "source": [
    "!python3 robotframework-cli/login.py change-password fred fredpA55 newPA55"
   ]
  },
  {
   "cell_type": "markdown",
   "metadata": {},
   "source": [
    "# Exercise: Test Case for Changing Password using BDD\n",
    "\n",
    "```\n",
    "*** Settings ***\n",
    "Library    LoginLibrary.py\n",
    "\n",
    "*** Test Cases ***\n",
    "User can create an account\n",
    "    Create valid user    fred    fredpA55\n",
    "\n",
    "User can create an account and log in\n",
    "    Create valid user    fred    fredpA55\n",
    "    Attempt to Login with Credentials    fred    fredpA55\n",
    "    Status should be    Logged In\n",
    "\n",
    "User cannot log in with bad password\n",
    "    Create valid user    betty    P4ssw0rd\n",
    "    Attempt to Login with Credentials    betty    wrong\n",
    "    Status Should Be    Access Denied\n",
    "\n",
    "User can change password\n",
    "    Given a user has a valid account\n",
    "    When she changes her password\n",
    "    Then she can log in with the new password\n",
    "    And she cannot use the old password anymore\n",
    "\n",
    "*** Keywords ***\n",
    "Create valid user\n",
    "    [Arguments]    ${username}    ${password}\n",
    "    Create user    ${username}    ${password}\n",
    "    Status should be    SUCCESS\n",
    "\n",
    "A user has a valid account\n",
    "    Create valid user    janedoe    J4n3D0e\n",
    "```"
   ]
  },
  {
   "cell_type": "markdown",
   "metadata": {},
   "source": [
    "## Solution\n",
    "\n",
    "```\n",
    "*** Settings ***\n",
    "Library    LoginLibrary.py\n",
    "\n",
    "*** Test Cases ***\n",
    "User can create an account\n",
    "    Create valid user    fred    fredpA55\n",
    "\n",
    "User can create an account and log in\n",
    "    Create valid user    fred    fredpA55\n",
    "    Attempt to Login with Credentials    fred    fredpA55\n",
    "    Status should be    Logged In\n",
    "\n",
    "User cannot log in with bad password\n",
    "    Create valid user    betty    P4ssw0rd\n",
    "    Attempt to Login with Credentials    betty    wrong\n",
    "    Status Should Be    Access Denied\n",
    "\n",
    "User can change password\n",
    "    Given a user has a valid account\n",
    "    When she changes her password\n",
    "    Then she can log in with the new password\n",
    "    And she cannot use the old password anymore\n",
    "\n",
    "*** Keywords ***\n",
    "Create valid user\n",
    "    [Arguments]    ${username}    ${password}\n",
    "    Create user    ${username}    ${password}\n",
    "    Status should be    SUCCESS\n",
    "\n",
    "A user has a valid account\n",
    "    Create valid user    janedoe    J4n3D0e\n",
    "\n",
    "She changes her password\n",
    "    Change password    janedoe    J4n3D0e    e0D3n4J\n",
    "    Status should be    SUCCESS\n",
    "\n",
    "She can log in with the new password\n",
    "    Login    janedoe    e0D3n4J\n",
    "\n",
    "She cannot use the old password anymore\n",
    "    Attempt to login with credentials    janedoe    J4n3D0e\n",
    "    Status should be    Access Denied\n",
    "\n",
    "Login\n",
    "    [Arguments]    ${username}    ${password}\n",
    "    Attempt to login with credentials    ${username}    ${password}\n",
    "    Status should be    Logged In\n",
    "```"
   ]
  },
  {
   "cell_type": "code",
   "execution_count": null,
   "metadata": {
    "collapsed": true
   },
   "outputs": [],
   "source": []
  }
 ],
 "metadata": {
  "kernelspec": {
   "display_name": "python-szczecin2017",
   "language": "python",
   "name": "python-szczecin2017"
  },
  "language_info": {
   "codemirror_mode": {
    "name": "ipython",
    "version": 3
   },
   "file_extension": ".py",
   "mimetype": "text/x-python",
   "name": "python",
   "nbconvert_exporter": "python",
   "pygments_lexer": "ipython3",
   "version": "3.5.2+"
  }
 },
 "nbformat": 4,
 "nbformat_minor": 2
}
