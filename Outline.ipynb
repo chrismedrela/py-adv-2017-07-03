{
 "cells": [
  {
   "cell_type": "markdown",
   "metadata": {},
   "source": [
    "# Course Outline\n",
    "\n",
    "## Module 0: [Installation](Installation.ipynb)\n",
    "\n",
    "## Module 1: Robot Framework\n",
    "\n",
    "2.  [Robot Framework](Robot Framework.ipynb)\n",
    "3.  [Robot Framework & Selenium](Robot Framework & Selenium.ipynb)\n",
    "\n",
    "## Module 2: Tests in Selenium\n",
    "\n",
    "1.  [Advanced Python](Advanced Python.ipynb)\n",
    "2.  [Unittest](Unittest.ipynb)\n",
    "3.  [Python & Selenium](Python & Selenium.ipynb)\n",
    "\n",
    "## Module 3: Working with Files & Databases\n",
    "\n",
    "1.  More on Python\n",
    "2.  Working with Files\n",
    "3.  Regular Expressions\n",
    "4.  SQLAlchemy"
   ]
  }
 ],
 "metadata": {
  "kernelspec": {
   "display_name": "python-szczecin2017",
   "language": "python",
   "name": "python-szczecin2017"
  },
  "language_info": {
   "codemirror_mode": {
    "name": "ipython",
    "version": 3
   },
   "file_extension": ".py",
   "mimetype": "text/x-python",
   "name": "python",
   "nbconvert_exporter": "python",
   "pygments_lexer": "ipython3",
   "version": "3.5.2+"
  }
 },
 "nbformat": 4,
 "nbformat_minor": 2
}
