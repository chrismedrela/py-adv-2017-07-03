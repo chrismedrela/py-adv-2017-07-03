{
 "cells": [
  {
   "cell_type": "code",
   "execution_count": 1,
   "metadata": {
    "collapsed": true
   },
   "outputs": [],
   "source": [
    "import re"
   ]
  },
  {
   "cell_type": "code",
   "execution_count": 7,
   "metadata": {},
   "outputs": [],
   "source": [
    "pattern = 'abc.e'\n",
    "assert re.match(pattern, 'abcde')"
   ]
  },
  {
   "cell_type": "code",
   "execution_count": 8,
   "metadata": {
    "collapsed": true
   },
   "outputs": [],
   "source": [
    "assert not re.match(pattern, 'abcdde')"
   ]
  },
  {
   "cell_type": "code",
   "execution_count": 10,
   "metadata": {},
   "outputs": [],
   "source": [
    "pattern = 'abcd?e'\n",
    "assert re.match(pattern, 'abcde')\n",
    "assert re.match(pattern, 'abce')\n",
    "assert not re.match(pattern, 'acbe')"
   ]
  },
  {
   "cell_type": "code",
   "execution_count": 11,
   "metadata": {},
   "outputs": [],
   "source": [
    "pattern = 'ab[cd]e'\n",
    "assert re.match(pattern, 'abce')\n",
    "assert re.match(pattern, 'abde')\n",
    "assert not re.match(pattern, 'abcde')\n",
    "assert not re.match(pattern, 'abe')"
   ]
  },
  {
   "cell_type": "code",
   "execution_count": null,
   "metadata": {
    "collapsed": true
   },
   "outputs": [],
   "source": [
    "pattern = ''\n",
    "assert re.match(pattern, 'abce')\n",
    "assert re.match(pattern, 'abde')\n",
    "assert not re.match(pattern, 'abcde')\n",
    "assert re.match(pattern, 'abe')"
   ]
  }
 ],
 "metadata": {
  "kernelspec": {
   "display_name": "python-szczecin2017",
   "language": "python",
   "name": "python-szczecin2017"
  },
  "language_info": {
   "codemirror_mode": {
    "name": "ipython",
    "version": 3
   },
   "file_extension": ".py",
   "mimetype": "text/x-python",
   "name": "python",
   "nbconvert_exporter": "python",
   "pygments_lexer": "ipython3",
   "version": "3.5.2+"
  }
 },
 "nbformat": 4,
 "nbformat_minor": 2
}
