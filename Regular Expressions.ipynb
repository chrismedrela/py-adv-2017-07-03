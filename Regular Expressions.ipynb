{
 "cells": [
  {
   "cell_type": "markdown",
   "metadata": {},
   "source": [
    "# Regexp Basics"
   ]
  },
  {
   "cell_type": "code",
   "execution_count": 1,
   "metadata": {
    "collapsed": true
   },
   "outputs": [],
   "source": [
    "import re"
   ]
  },
  {
   "cell_type": "code",
   "execution_count": 2,
   "metadata": {
    "collapsed": true
   },
   "outputs": [],
   "source": [
    "pattern = 'abc.e'\n",
    "assert re.match(pattern, 'abcde')"
   ]
  },
  {
   "cell_type": "code",
   "execution_count": 3,
   "metadata": {
    "collapsed": true
   },
   "outputs": [],
   "source": [
    "assert not re.match(pattern, 'abcdde')"
   ]
  },
  {
   "cell_type": "code",
   "execution_count": 4,
   "metadata": {
    "collapsed": true
   },
   "outputs": [],
   "source": [
    "pattern = 'abcd?e'\n",
    "assert re.match(pattern, 'abcde')\n",
    "assert re.match(pattern, 'abce')\n",
    "assert not re.match(pattern, 'acbe')"
   ]
  },
  {
   "cell_type": "code",
   "execution_count": 5,
   "metadata": {
    "collapsed": true
   },
   "outputs": [],
   "source": [
    "pattern = 'ab[cd]e'\n",
    "assert re.match(pattern, 'abce')\n",
    "assert re.match(pattern, 'abde')\n",
    "assert not re.match(pattern, 'abcde')\n",
    "assert not re.match(pattern, 'abe')"
   ]
  },
  {
   "cell_type": "markdown",
   "metadata": {},
   "source": [
    "## Exercise"
   ]
  },
  {
   "cell_type": "code",
   "execution_count": 6,
   "metadata": {},
   "outputs": [],
   "source": [
    "pattern = 'ab[cd]?e'\n",
    "assert re.match(pattern, 'abce')\n",
    "assert re.match(pattern, 'abde')\n",
    "assert not re.match(pattern, 'abcde')\n",
    "assert re.match(pattern, 'abe')"
   ]
  },
  {
   "cell_type": "markdown",
   "metadata": {},
   "source": [
    "Note: We didn't cover the rest of this notebook during the course due to lack of time."
   ]
  },
  {
   "cell_type": "markdown",
   "metadata": {},
   "source": [
    "# Regexp Syntax: Basics"
   ]
  },
  {
   "cell_type": "markdown",
   "metadata": {},
   "source": [
    "\n",
    "## Any character: ."
   ]
  },
  {
   "cell_type": "code",
   "execution_count": 7,
   "metadata": {
    "collapsed": true
   },
   "outputs": [],
   "source": [
    "assert     re.match('abc.e', 'abcde')\n",
    "assert     re.match('abc.e', 'abcfe')\n",
    "assert not re.match('abc.e', 'abce')\n",
    "assert not re.match('abc.e', 'abcdde')"
   ]
  },
  {
   "cell_type": "markdown",
   "metadata": {},
   "source": [
    "## Optional: ?"
   ]
  },
  {
   "cell_type": "code",
   "execution_count": 8,
   "metadata": {
    "collapsed": true
   },
   "outputs": [],
   "source": [
    "assert     re.match('abcd?e', 'abce')\n",
    "assert     re.match('abcd?e', 'abcde')\n",
    "assert not re.match('abcd?e', 'abcfe')\n",
    "assert not re.match('abcd?e', 'abcdde')"
   ]
  },
  {
   "cell_type": "markdown",
   "metadata": {},
   "source": [
    "## Match n times: {n}"
   ]
  },
  {
   "cell_type": "code",
   "execution_count": 9,
   "metadata": {
    "collapsed": true
   },
   "outputs": [],
   "source": [
    "assert not re.match('abcd{2}e', 'abce')\n",
    "assert not re.match('abcd{2}e', 'abcde')\n",
    "assert     re.match('abcd{2}e', 'abcdde')"
   ]
  },
  {
   "cell_type": "markdown",
   "metadata": {},
   "source": [
    "## Grouping"
   ]
  },
  {
   "cell_type": "code",
   "execution_count": 10,
   "metadata": {
    "collapsed": true
   },
   "outputs": [],
   "source": [
    "assert     re.match('ab(cd)?e', 'abe')\n",
    "assert     re.match('ab(cd)?e', 'abcde')\n",
    "assert not re.match('ab(cd)?e', 'abfe')\n",
    "assert not re.match('ab(cd)?e', 'abcdfe')"
   ]
  },
  {
   "cell_type": "markdown",
   "metadata": {},
   "source": [
    "## Alternative: |"
   ]
  },
  {
   "cell_type": "code",
   "execution_count": 11,
   "metadata": {
    "collapsed": true
   },
   "outputs": [],
   "source": [
    "assert     re.match('ab(c|d)e', 'abce')\n",
    "assert     re.match('ab(c|d)e', 'abde')\n",
    "assert not re.match('ab(c|d)e', 'abe')\n",
    "assert not re.match('ab(c|d)e', 'abcde')"
   ]
  },
  {
   "cell_type": "markdown",
   "metadata": {},
   "source": [
    "## Alternative group: []"
   ]
  },
  {
   "cell_type": "code",
   "execution_count": 12,
   "metadata": {
    "collapsed": true
   },
   "outputs": [],
   "source": [
    "assert     re.match('ab[cd]e', 'abce')\n",
    "assert     re.match('ab[cd]e', 'abde')\n",
    "assert not re.match('ab[cd]e', 'abe')\n",
    "assert not re.match('ab[cd]e', 'abcde')"
   ]
  },
  {
   "cell_type": "markdown",
   "metadata": {},
   "source": [
    "## Alternative class of characters: [-]"
   ]
  },
  {
   "cell_type": "code",
   "execution_count": 13,
   "metadata": {
    "collapsed": true
   },
   "outputs": [],
   "source": [
    "assert     re.match('ab[c-f]e', 'abce')\n",
    "assert     re.match('ab[c-f]e', 'abde')\n",
    "assert     re.match('ab[c-f]e', 'abfe')\n",
    "assert not re.match('ab[c-f]e', 'abe')\n",
    "assert not re.match('ab[c-f]e', 'abcde')\n",
    "assert not re.match('ab[c-f]e', 'abcge')"
   ]
  },
  {
   "cell_type": "markdown",
   "metadata": {},
   "source": [
    "## Any character expect for: [^]"
   ]
  },
  {
   "cell_type": "code",
   "execution_count": 14,
   "metadata": {
    "collapsed": true
   },
   "outputs": [],
   "source": [
    "assert not re.match('ab[^cd]e', 'abce')\n",
    "assert not re.match('ab[^cd]e', 'abde')\n",
    "assert not re.match('ab[^cd]e', 'abe')\n",
    "assert not re.match('ab[^cd]e', 'abcde')\n",
    "assert     re.match('ab[^cd]e', 'abfe')"
   ]
  },
  {
   "cell_type": "markdown",
   "metadata": {},
   "source": [
    "## Escaping: \\"
   ]
  },
  {
   "cell_type": "code",
   "execution_count": 15,
   "metadata": {
    "collapsed": true
   },
   "outputs": [],
   "source": [
    "assert     re.match('ab\\[d', 'ab[d')\n",
    "assert not re.match('ab\\[d', 'abcd')"
   ]
  },
  {
   "cell_type": "markdown",
   "metadata": {},
   "source": [
    "## Match to the end of string: $"
   ]
  },
  {
   "cell_type": "code",
   "execution_count": 16,
   "metadata": {
    "collapsed": true
   },
   "outputs": [],
   "source": [
    "assert     re.match('abc', 'abc')\n",
    "assert     re.match('abc', 'abcd')"
   ]
  },
  {
   "cell_type": "code",
   "execution_count": 17,
   "metadata": {
    "collapsed": true
   },
   "outputs": [],
   "source": [
    "assert     re.match('abc$', 'abc')\n",
    "assert not re.match('abc$', 'abcd')"
   ]
  },
  {
   "cell_type": "markdown",
   "metadata": {},
   "source": [
    "# Exercises: Basic Regexps"
   ]
  },
  {
   "cell_type": "markdown",
   "metadata": {},
   "source": [
    "For each subexercise, create pattern (as string) in `patternX` variable.\n",
    "This pattern doesn't have to extract any data from strings.\n",
    "\n",
    "Then, create compiled patter and store it in `regexX`.\n",
    "Use `re.VERBOSE` flag for compiled patterns.\n",
    "Extend the pattern so that you extract data from strings."
   ]
  },
  {
   "cell_type": "markdown",
   "metadata": {},
   "source": [
    "## Example"
   ]
  },
  {
   "cell_type": "code",
   "execution_count": 18,
   "metadata": {
    "collapsed": true
   },
   "outputs": [],
   "source": [
    "pattern = 'ab.$'\n",
    "regex = re.compile('''\n",
    "    ab         # match \"ab\" characters\n",
    "    (?P<char>  # create \"char\" group, so that we can extract data\n",
    "      .        # match any character\n",
    "    )          # end of group\n",
    "    $          # match to the end the string\n",
    "''', re.VERBOSE)"
   ]
  },
  {
   "cell_type": "code",
   "execution_count": 19,
   "metadata": {
    "collapsed": true
   },
   "outputs": [],
   "source": [
    "assert     re.match(pattern, 'aba')\n",
    "assert     re.match(pattern, 'abb')\n",
    "assert     re.match(pattern, 'abz')\n",
    "assert     re.match(pattern, 'ab7')\n",
    "assert     re.match(pattern, 'ab[')\n",
    "assert not re.match(pattern, 'ab')\n",
    "assert not re.match(pattern, 'abcc')"
   ]
  },
  {
   "cell_type": "code",
   "execution_count": 20,
   "metadata": {
    "collapsed": true
   },
   "outputs": [],
   "source": [
    "assert     regex.match('aba').groupdict() == {'char': 'a'}\n",
    "assert     regex.match('abz').groupdict() == {'char': 'z'}\n",
    "assert     regex.match('ab7').groupdict() == {'char': '7'}\n",
    "assert     regex.match('ab[').groupdict() == {'char': '['}"
   ]
  },
  {
   "cell_type": "markdown",
   "metadata": {},
   "source": [
    "## Simple Pattern"
   ]
  },
  {
   "cell_type": "code",
   "execution_count": 21,
   "metadata": {
    "collapsed": true
   },
   "outputs": [],
   "source": [
    "pattern1 = 'ab[cd]?$'\n",
    "regex1 = re.compile('''\n",
    "    ab                   # match \"ab\" characters\n",
    "    (?P<optional_group>  # let's create a group to extract data\n",
    "      [cd]?              # match c, d or none character\n",
    "    )                    # end of \"optional_group\" group\n",
    "    $                    # match to the end of string\n",
    "''', re.VERBOSE)"
   ]
  },
  {
   "cell_type": "code",
   "execution_count": 22,
   "metadata": {
    "collapsed": true
   },
   "outputs": [],
   "source": [
    "assert     re.match(pattern1, 'ab')\n",
    "assert     re.match(pattern1, 'abc')\n",
    "assert     re.match(pattern1, 'abd')\n",
    "assert not re.match(pattern1, 'abcd')\n",
    "assert not re.match(pattern1, 'abe')"
   ]
  },
  {
   "cell_type": "code",
   "execution_count": 23,
   "metadata": {
    "collapsed": true
   },
   "outputs": [],
   "source": [
    "assert     regex1.match('ab').groupdict() == {'optional_group': ''}\n",
    "assert     regex1.match('abc').groupdict() == {'optional_group': 'c'}\n",
    "assert     regex1.match('abd').groupdict() == {'optional_group': 'd'}"
   ]
  },
  {
   "cell_type": "markdown",
   "metadata": {},
   "source": [
    "## Phone Numbers"
   ]
  },
  {
   "cell_type": "code",
   "execution_count": 24,
   "metadata": {
    "collapsed": true
   },
   "outputs": [],
   "source": [
    "pattern2 = '[0-9]{3}[ -]?[0-9]{3}[ -]?[0-9]{3}$'\n",
    "regex2 = re.compile('''\n",
    "    (?P<group1> [0-9]{3})\n",
    "    [ -]?\n",
    "    (?P<group2> [0-9]{3})\n",
    "    [ -]?\n",
    "    (?P<group3> [0-9]{3})\n",
    "''', re.VERBOSE)"
   ]
  },
  {
   "cell_type": "code",
   "execution_count": 25,
   "metadata": {
    "collapsed": true
   },
   "outputs": [],
   "source": [
    "assert     re.match(pattern2, '123 456 789')\n",
    "assert     re.match(pattern2, '678 543 970')\n",
    "assert     re.match(pattern2, '987654321')  # grouping digits is optional\n",
    "assert     re.match(pattern2, '123-456-789')  # you can separate groups by space or dash (or not separate it at all)\n",
    "assert not re.match(pattern2, '12 345 678') # there must be exactly 9 digits\n",
    "assert not re.match(pattern2, '12345678')  \n",
    "assert not re.match(pattern2, '1234567890')\n",
    "assert not re.match(pattern2, '12 3456 789')  # grouping matters (3 digits in each group)"
   ]
  },
  {
   "cell_type": "code",
   "execution_count": 26,
   "metadata": {
    "collapsed": true
   },
   "outputs": [],
   "source": [
    "assert     regex2.match('123 456 789').groupdict() == {'group1': '123', 'group2': '456', 'group3': '789'}\n",
    "assert     regex2.match('987654321').groupdict() == {'group1': '987', 'group2': '654', 'group3': '321'}"
   ]
  },
  {
   "cell_type": "markdown",
   "metadata": {},
   "source": [
    "## Phone Numbers with Country Prefix"
   ]
  },
  {
   "cell_type": "code",
   "execution_count": 27,
   "metadata": {
    "collapsed": true
   },
   "outputs": [],
   "source": [
    "pattern3 = '(\\+[0-9]{1,2}[ -]?)?[0-9]{3}[ -]?[0-9]{3}[ -]?[0-9]{3}$'\n",
    "regex3 = re.compile('''\n",
    "    (                      # let's group all the prefix related stuff\n",
    "      \\+                   # plus sign\n",
    "      (?P<prefix>          # extract prefix number\n",
    "        [0-9]{1,2}         # prefix is one or two digits\n",
    "      )\n",
    "      [ -]?                # optional space or dash\n",
    "    )?                     # entire prefix is optional\n",
    "    \n",
    "    (?P<group1> [0-9]{3})  # frist three digits\n",
    "    [ -]?                  # optional space or dash\n",
    "    (?P<group2> [0-9]{3})  # second three digits\n",
    "    [ -]?                  # optional space or dash\n",
    "    (?P<group3> [0-9]{3})  # last three digits\n",
    "''', re.VERBOSE)"
   ]
  },
  {
   "cell_type": "code",
   "execution_count": 28,
   "metadata": {
    "collapsed": true
   },
   "outputs": [],
   "source": [
    "assert     re.match(pattern3, '123 456 789')\n",
    "assert     re.match(pattern3, '678 543 970')\n",
    "assert     re.match(pattern3, '123456789')\n",
    "assert     re.match(pattern3, '123-456-789')\n",
    "assert     re.match(pattern3, '+48 123 456 789')\n",
    "assert     re.match(pattern3, '+48 123456789')\n",
    "assert     re.match(pattern3, '+48123456789')\n",
    "assert     re.match(pattern3, '+1 345 111 222')\n",
    "assert not re.match(pattern3, ' 345 111 222')\n",
    "assert not re.match(pattern3, '12 456 789')  # there must be exactly 9 digits (plus optional country prefix)\n",
    "assert not re.match(pattern3, '12345678')\n",
    "assert not re.match(pattern3, '1234567890')\n",
    "assert not re.match(pattern3, '12 3456 789')  # grouping matters (3 digits in each group)\n",
    "assert not re.match(pattern3, '+489 123 456 789')  # one or two digits allowed after plus\n",
    "assert not re.match(pattern3, '48 123 456 789')  # if country prefix is present, it must be prepended by plus\n",
    "assert not re.match(pattern3, '+123 456 789')  # if plus is present, country prefix is required"
   ]
  },
  {
   "cell_type": "code",
   "execution_count": 29,
   "metadata": {
    "collapsed": true
   },
   "outputs": [],
   "source": [
    "assert     regex3.match('123456789').groupdict() == {'prefix': None, 'group1': '123', 'group2': '456', 'group3': '789'}\n",
    "assert     regex3.match('+1 345 111 222').groupdict() == {'prefix': '1', 'group1': '345', 'group2': '111', 'group3': '222'}"
   ]
  },
  {
   "cell_type": "markdown",
   "metadata": {},
   "source": [
    "# Regexp Syntax: Quantifiers"
   ]
  },
  {
   "cell_type": "markdown",
   "metadata": {},
   "source": [
    "## Match zero or more: *"
   ]
  },
  {
   "cell_type": "code",
   "execution_count": 30,
   "metadata": {
    "collapsed": true
   },
   "outputs": [],
   "source": [
    "assert     re.match('abcd*e', 'abce')\n",
    "assert     re.match('abcd*e', 'abcde')\n",
    "assert     re.match('abcd*e', 'abcdde')"
   ]
  },
  {
   "cell_type": "markdown",
   "metadata": {},
   "source": [
    "## Match one or more: +"
   ]
  },
  {
   "cell_type": "code",
   "execution_count": 31,
   "metadata": {
    "collapsed": true
   },
   "outputs": [],
   "source": [
    "assert not re.match('abcd+e', 'abce')\n",
    "assert     re.match('abcd+e', 'abcde')\n",
    "assert     re.match('abcd+e', 'abcdde')"
   ]
  },
  {
   "cell_type": "markdown",
   "metadata": {},
   "source": [
    "## Optional (match zero or one): ?"
   ]
  },
  {
   "cell_type": "code",
   "execution_count": 32,
   "metadata": {
    "collapsed": true
   },
   "outputs": [],
   "source": [
    "assert     re.match('abcd?e', 'abce')\n",
    "assert     re.match('abcd?e', 'abcde')\n",
    "assert not re.match('abcd?e', 'abcdde')"
   ]
  },
  {
   "cell_type": "markdown",
   "metadata": {},
   "source": [
    "## Match n times: {n}"
   ]
  },
  {
   "cell_type": "code",
   "execution_count": 33,
   "metadata": {
    "collapsed": true
   },
   "outputs": [],
   "source": [
    "assert not re.match('abcd{2}e', 'abce')\n",
    "assert not re.match('abcd{2}e', 'abcde')\n",
    "assert     re.match('abcd{2}e', 'abcdde')"
   ]
  },
  {
   "cell_type": "markdown",
   "metadata": {},
   "source": [
    "## Match between n and m times: {n,m}"
   ]
  },
  {
   "cell_type": "code",
   "execution_count": 34,
   "metadata": {
    "collapsed": true
   },
   "outputs": [],
   "source": [
    "assert not re.match('abcd{2,4}e', 'abcde')\n",
    "assert     re.match('abcd{2,4}e', 'abcdde')\n",
    "assert     re.match('abcd{2,4}e', 'abcddde')\n",
    "assert     re.match('abcd{2,4}e', 'abcdddde')\n",
    "assert not re.match('abcd{2,4}e', 'abcddddde')"
   ]
  },
  {
   "cell_type": "markdown",
   "metadata": {},
   "source": [
    "## Match n times or more: {n,}"
   ]
  },
  {
   "cell_type": "code",
   "execution_count": 35,
   "metadata": {
    "collapsed": true
   },
   "outputs": [],
   "source": [
    "assert not re.match('abcd{2,}e', 'abcde')\n",
    "assert     re.match('abcd{2,}e', 'abcdde')\n",
    "assert     re.match('abcd{2,}e', 'abcddde')\n",
    "assert     re.match('abcd{2,}e', 'abcdddde')\n",
    "assert     re.match('abcd{2,}e', 'abcddddde')"
   ]
  },
  {
   "cell_type": "markdown",
   "metadata": {},
   "source": [
    "## Match up to n times: {,n}"
   ]
  },
  {
   "cell_type": "code",
   "execution_count": 36,
   "metadata": {
    "collapsed": true
   },
   "outputs": [],
   "source": [
    "assert     re.match('abcd{,4}e', 'abcde')\n",
    "assert     re.match('abcd{,4}e', 'abcdde')\n",
    "assert     re.match('abcd{,4}e', 'abcddde')\n",
    "assert     re.match('abcd{,4}e', 'abcdddde')\n",
    "assert not re.match('abcd{,4}e', 'abcddddde')"
   ]
  },
  {
   "cell_type": "markdown",
   "metadata": {},
   "source": [
    "# Regexp Syntax: Character Classes"
   ]
  },
  {
   "cell_type": "markdown",
   "metadata": {},
   "source": [
    "## Digit: \\d"
   ]
  },
  {
   "cell_type": "code",
   "execution_count": 37,
   "metadata": {
    "collapsed": true
   },
   "outputs": [],
   "source": [
    "assert     re.match('\\d', '0')\n",
    "assert     re.match('\\d', '3')\n",
    "assert not re.match('\\d', 'a')\n",
    "assert not re.match('\\d', '[')\n",
    "assert not re.match('\\d', '\\n')"
   ]
  },
  {
   "cell_type": "markdown",
   "metadata": {},
   "source": [
    "## Non-digit: \\D "
   ]
  },
  {
   "cell_type": "code",
   "execution_count": 38,
   "metadata": {
    "collapsed": true
   },
   "outputs": [],
   "source": [
    "assert not re.match('\\D', '0')\n",
    "assert not re.match('\\D', '3')\n",
    "assert     re.match('\\D', 'a')\n",
    "assert     re.match('\\D', '[')\n",
    "assert     re.match('\\D', '\\n')"
   ]
  },
  {
   "cell_type": "markdown",
   "metadata": {},
   "source": [
    "## Whitespace \\s"
   ]
  },
  {
   "cell_type": "code",
   "execution_count": 39,
   "metadata": {
    "collapsed": true
   },
   "outputs": [],
   "source": [
    "assert     re.match('\\s', ' ')\n",
    "assert     re.match('\\s', '\\t')\n",
    "assert     re.match('\\s', '\\n')\n",
    "assert not re.match('\\s', 'a')\n",
    "assert not re.match('\\s', '[')\n",
    "assert not re.match('\\s', '3')"
   ]
  },
  {
   "cell_type": "markdown",
   "metadata": {},
   "source": [
    "## Non-whitespace: \\S"
   ]
  },
  {
   "cell_type": "code",
   "execution_count": 40,
   "metadata": {
    "collapsed": true
   },
   "outputs": [],
   "source": [
    "assert not re.match('\\S', ' ')\n",
    "assert not re.match('\\S', '\\t')\n",
    "assert not re.match('\\S', '\\n')\n",
    "assert     re.match('\\S', 'a')\n",
    "assert     re.match('\\S', '[')\n",
    "assert     re.match('\\S', '3')"
   ]
  },
  {
   "cell_type": "markdown",
   "metadata": {},
   "source": [
    "## Special characters: \\n \\t "
   ]
  },
  {
   "cell_type": "code",
   "execution_count": 41,
   "metadata": {
    "collapsed": true
   },
   "outputs": [],
   "source": [
    "assert     re.match('\\n', '\\n')\n",
    "assert not re.match('\\n', ' ')\n",
    "assert not re.match('\\n', '\\t')"
   ]
  }
 ],
 "metadata": {
  "kernelspec": {
   "display_name": "python-szczecin2017",
   "language": "python",
   "name": "python-szczecin2017"
  },
  "language_info": {
   "codemirror_mode": {
    "name": "ipython",
    "version": 3
   },
   "file_extension": ".py",
   "mimetype": "text/x-python",
   "name": "python",
   "nbconvert_exporter": "python",
   "pygments_lexer": "ipython3",
   "version": "3.5.2+"
  }
 },
 "nbformat": 4,
 "nbformat_minor": 2
}
