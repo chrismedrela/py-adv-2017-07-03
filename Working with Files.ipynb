{
 "cells": [
  {
   "cell_type": "markdown",
   "metadata": {
    "collapsed": true
   },
   "source": [
    "# File Handling Principles"
   ]
  },
  {
   "cell_type": "code",
   "execution_count": 9,
   "metadata": {
    "collapsed": true
   },
   "outputs": [],
   "source": [
    "with open('file.txt', 'w') as s:\n",
    "    s.write('asdf\\nqwer')"
   ]
  },
  {
   "cell_type": "code",
   "execution_count": 2,
   "metadata": {},
   "outputs": [
    {
     "name": "stdout",
     "output_type": "stream",
     "text": [
      "asdf\n"
     ]
    }
   ],
   "source": [
    "with open('file.txt', 'r') as s:\n",
    "    content = s.read()\n",
    "    print(content)"
   ]
  },
  {
   "cell_type": "markdown",
   "metadata": {},
   "source": [
    "# Processing File Content"
   ]
  },
  {
   "cell_type": "code",
   "execution_count": 10,
   "metadata": {},
   "outputs": [
    {
     "name": "stdout",
     "output_type": "stream",
     "text": [
      "asdf\n",
      "qwer\n"
     ]
    }
   ],
   "source": [
    "with open('file.txt', 'r') as s:\n",
    "    content = s.read()\n",
    "    print(content)"
   ]
  },
  {
   "cell_type": "code",
   "execution_count": 13,
   "metadata": {},
   "outputs": [
    {
     "name": "stdout",
     "output_type": "stream",
     "text": [
      "'asdf\\n'\n",
      "'qwer'\n"
     ]
    }
   ],
   "source": [
    "with open('file.txt', 'r') as s:\n",
    "    for line in s:\n",
    "        print(repr(line))"
   ]
  },
  {
   "cell_type": "code",
   "execution_count": 17,
   "metadata": {},
   "outputs": [
    {
     "name": "stdout",
     "output_type": "stream",
     "text": [
      "[b'asdf\\n', b'qwer']\n"
     ]
    }
   ],
   "source": [
    "# Binary mode\n",
    "with open('file.txt', 'rb') as s:\n",
    "    print(s.readlines())"
   ]
  },
  {
   "cell_type": "markdown",
   "metadata": {},
   "source": [
    "# Processing .csv Files"
   ]
  },
  {
   "cell_type": "code",
   "execution_count": 18,
   "metadata": {
    "collapsed": true
   },
   "outputs": [],
   "source": [
    "import csv"
   ]
  },
  {
   "cell_type": "markdown",
   "metadata": {},
   "source": [
    "## Writing .csv File"
   ]
  },
  {
   "cell_type": "code",
   "execution_count": 19,
   "metadata": {
    "collapsed": true
   },
   "outputs": [],
   "source": [
    "with open('example.csv', 'w') as csv_stream:\n",
    "    writer = csv.writer(csv_stream)\n",
    "    writer.writerow(['username', 'password', 'id'])\n",
    "    writer.writerow(['john', 'j0hn', 5])\n",
    "    writer.writerow(['alice,with,commas', 'pass', 2])\n",
    "    writer.writerow(['bob,with,commas,and\"doublequotes\"', 'pass', 2])"
   ]
  },
  {
   "cell_type": "code",
   "execution_count": 20,
   "metadata": {},
   "outputs": [
    {
     "name": "stdout",
     "output_type": "stream",
     "text": [
      "username,password,id\r",
      "\r\n",
      "john,j0hn,5\r",
      "\r\n",
      "\"alice,with,commas\",pass,2\r",
      "\r\n",
      "\"bob,with,commas,and\"\"doublequotes\"\"\",pass,2\r",
      "\r\n"
     ]
    }
   ],
   "source": [
    "!cat example.csv"
   ]
  },
  {
   "cell_type": "markdown",
   "metadata": {},
   "source": [
    "## Reading .csv File"
   ]
  },
  {
   "cell_type": "code",
   "execution_count": 21,
   "metadata": {
    "scrolled": true
   },
   "outputs": [
    {
     "name": "stdout",
     "output_type": "stream",
     "text": [
      "['username', 'password', 'id']\n",
      "['john', 'j0hn', '5']\n",
      "['alice,with,commas', 'pass', '2']\n",
      "['bob,with,commas,and\"doublequotes\"', 'pass', '2']\n"
     ]
    }
   ],
   "source": [
    "with open('example.csv', 'r') as csv_stream:\n",
    "    reader = csv.reader(csv_stream)\n",
    "    for cols in reader:\n",
    "        print(cols)"
   ]
  },
  {
   "cell_type": "markdown",
   "metadata": {
    "collapsed": true
   },
   "source": [
    "# Exercise: Convert Apache Access Logs to .csv File\n",
    "\n",
    "Write a command line tool called `apache2csv.py` that converts server logs into a .csv file that is easier to load in Excel.\n",
    "\n",
    "1. The input is Apache access logs.\n",
    "1. The output should be the same logs in .csv format, so that you can import it in Excel.\n",
    "1. The command line tool accepts two arguments: filenames of input and output files.\n",
    "\n",
    "Hints:\n",
    "\n",
    "1. For writing output file, use builtin `csv` module.\n",
    "1. Import `sys` and inspect `sys.argv` in order to access command line arguments. No need to use `argparse` or `optparse`.\n",
    "\n",
    "**Example execution**:\n",
    "\n",
    "```bash\n",
    "apache2csv.py apache_access.log apache_access.csv\n",
    "```"
   ]
  },
  {
   "cell_type": "markdown",
   "metadata": {},
   "source": [
    "## Example `apache_access.log` File"
   ]
  },
  {
   "cell_type": "markdown",
   "metadata": {},
   "source": [
    "```\n",
    "64.242.88.20 - - [07/Mar/2017:16:24:16 -0800] \"GET / HTTP/1.0\" 200 3395\n",
    "64.242.88.20 - - [07/Mar/2017:16:24:16 -0800] \"GET /static/style.css HTTP/1.0\" 200 3395\n",
    "64.242.88.20 - - [07/Mar/2017:16:24:16 -0800] \"GET /static/logo.png HTTP/1.0\" 200 293644\n",
    "64.242.88.20 - - [07/Mar/2017:16:24:30 -0800] \"GET /login HTTP/1.0\" 200 3395\n",
    "64.242.88.20 - - [07/Mar/2017:16:24:48 -0800] \"POST /login?next=/dashboard/ HTTP/1.0\" 302 -\n",
    "64.242.88.20 - - [07/Mar/2017:16:24:49 -0800] \"GET /dashboard HTTP/1.0\" 200 2002\n",
    "64.242.88.20 - - [07/Mar/2017:16:24:59 -0800] \"GET /search?q=documentation HTTP/1.0\" 200 2002\n",
    "64.242.88.20 - - [07/Mar/2017:16:25:13 -0800] \"GET /doc/main HTTP/1.0\" 200 2345\n",
    "64.242.88.20 - - [07/Mar/2017:16:25:23 -0800] \"GET /doc/deployment HTTP/1.0\" 200 28734\n",
    "64.242.88.20 - - [07/Mar/2017:16:26:56 -0800] \"GET /doc/authentication HTTP/1.0\" 200 22345\n",
    "65.123.12.28 - - [07/Mar/2017:16:27:32 -0800] \"GET / HTTP/1.1\" 200 3399\n",
    "64.242.88.20 - - [07/Mar/2017:16:28:05 -0800] \"GET /doc/faq HTTP/1.0\" 200 58462\n",
    "64.242.88.20 - - [07/Mar/2017:16:24:16 -0800] \"GET /invalid-url HTTP/1.0\" 404 7218\n",
    "```"
   ]
  },
  {
   "cell_type": "markdown",
   "metadata": {},
   "source": [
    "## Expected Output"
   ]
  },
  {
   "cell_type": "markdown",
   "metadata": {},
   "source": [
    "```\n",
    "ip,datetime,method,url,protocol,response_code,content_length\n",
    "64.242.88.20,07/Mar/2017:16:24:16 -0800,GET,/,HTTP/1.0,200,3395\n",
    "64.242.88.20,07/Mar/2017:16:24:16 -0800,GET,/static/style.css,HTTP/1.0,200,3395\n",
    "64.242.88.20,07/Mar/2017:16:24:16 -0800,GET,/static/logo.png,HTTP/1.0,200,293644\n",
    "64.242.88.20,07/Mar/2017:16:24:30 -0800,GET,/login,HTTP/1.0,200,3395\n",
    "64.242.88.20,07/Mar/2017:16:24:48 -0800,POST,/login?next=/dashboard/,HTTP/1.0,302,-\n",
    "64.242.88.20,07/Mar/2017:16:24:49 -0800,GET,/dashboard,HTTP/1.0,200,2002\n",
    "64.242.88.20,07/Mar/2017:16:24:59 -0800,GET,/search?q=documentation,HTTP/1.0,200,2002\n",
    "64.242.88.20,07/Mar/2017:16:25:13 -0800,GET,/doc/main,HTTP/1.0,200,2345\n",
    "64.242.88.20,07/Mar/2017:16:25:23 -0800,GET,/doc/deployment,HTTP/1.0,200,28734\n",
    "64.242.88.20,07/Mar/2017:16:26:56 -0800,GET,/doc/authentication,HTTP/1.0,200,22345\n",
    "65.123.12.28,07/Mar/2017:16:27:32 -0800,GET,/,HTTP/1.1,200,3399\n",
    "64.242.88.20,07/Mar/2017:16:28:05 -0800,GET,/doc/faq,HTTP/1.0,200,58462\n",
    "64.242.88.20,07/Mar/2017:16:24:16 -0800,GET,/invalid-url,HTTP/1.0,404,7218\n",
    "```"
   ]
  }
 ],
 "metadata": {
  "kernelspec": {
   "display_name": "python-szczecin2017",
   "language": "python",
   "name": "python-szczecin2017"
  },
  "language_info": {
   "codemirror_mode": {
    "name": "ipython",
    "version": 3
   },
   "file_extension": ".py",
   "mimetype": "text/x-python",
   "name": "python",
   "nbconvert_exporter": "python",
   "pygments_lexer": "ipython3",
   "version": "3.5.2+"
  }
 },
 "nbformat": 4,
 "nbformat_minor": 2
}
