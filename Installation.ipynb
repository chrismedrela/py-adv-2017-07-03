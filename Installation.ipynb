{
 "cells": [
  {
   "cell_type": "markdown",
   "metadata": {},
   "source": [
    "# 1. Install Text Editor\n",
    "\n",
    "To edit Robot and Python files we need an IDE or at least a text editor. If you don't have any preferences, I recommend [Visual Studio Code](https://code.visualstudio.com/) with the following plugins installed:\n",
    "\n",
    "- [Python](https://marketplace.visualstudio.com/items?itemName=donjayamanne.python)\n",
    "- [robot framework language](https://marketplace.visualstudio.com/items?itemName=keith.robotframework)"
   ]
  },
  {
   "cell_type": "markdown",
   "metadata": {},
   "source": [
    "# 2. Install Python 3\n",
    "\n",
    "Python 3 should be preinstalled on Linux and MacOS. On Windows, it's not installed by default.\n",
    "\n",
    "You can install Python 3 from https://www.python.org/downloads/.\n",
    "The recommended version is Python 3.5.3, but any 3.x version should work.\n",
    "\n",
    "On Windows:\n",
    "- Download the installer from https://www.python.org/downloads/\n",
    "- Click \"Customize installation\"\n",
    "- Click \"Next\" to skip \"Optional Features\" panel.\n",
    "- Check \"Add Python to environment variables\" in \"Advanced Options\" panel.\n",
    "- Click \"Install\"\n",
    "- Restart your command line, if you launched one.\n",
    "\n",
    "Verify your installation - start command line and run:\n",
    "\n",
    "```bash\n",
    "python --version\n",
    "```\n",
    "\n",
    "Expected output is:\n",
    "\n",
    "```\n",
    "Python 3.5.2+\n",
    "```\n",
    "\n",
    "You may need to call `python3` instead of `python` if your default Python installation is Python 2."
   ]
  },
  {
   "cell_type": "markdown",
   "metadata": {},
   "source": [
    "# 3. Install `pip` (Python package manager)\n",
    "\n",
    "If you have Python installed, `pip3` should be already installed. Verify it in your command line:\n",
    "\n",
    "```bash\n",
    "pip3 --version\n",
    "```\n",
    "\n",
    "Expected output is (the path and pip version may be different, but the Python version should be the same as the one you installed):\n",
    "\n",
    "```\n",
    "pip 9.0.1 from /home/chris/courses/nobleprog/python-szczecin2017/venv/lib/python3.5/site-packages (python 3.5)\n",
    "```"
   ]
  },
  {
   "cell_type": "markdown",
   "metadata": {},
   "source": [
    "# 4. Install `git`\n",
    "\n",
    "On Linux and MacOS, `git` should be already installed. On Windows, it's not installed by default.\n",
    "\n",
    "On Windows, installation instructions are:\n",
    "\n",
    "- Download installator from https://git-scm.com/download/win and run it.\n",
    "- Click \"Next\" a lot of times (no need to customize installation).\n",
    "- Restart your command line.\n",
    "\n",
    "Verify installation:\n",
    "\n",
    "```bash\n",
    "git --version\n",
    "```\n",
    "\n",
    "Expected output is (the version may be different):\n",
    "\n",
    "```\n",
    "git version 2.9.3\n",
    "```"
   ]
  },
  {
   "cell_type": "markdown",
   "metadata": {},
   "source": [
    "# 5. Install Libraries (global installation)\n",
    "\n",
    "You can install libraries globally or in an isolated environment called \"virtualenv\". For simplicity, we won't create virtualenvs. We'll install everything globally.\n",
    "\n",
    "Run in command line (prepend `sudo` on Linux if necessary):\n",
    "\n",
    "    pip3 install ipython jupyter robotframework SQLAlchemy selenium\n",
    "    pip3 install git+https://github.com/robotframework/Selenium2Library.git\n",
    "    \n",
    "The second command may take a few minutes."
   ]
  },
  {
   "cell_type": "markdown",
   "metadata": {},
   "source": [
    "# 6. Verify Libraries Installation\n",
    "\n",
    "1.  Run `python3` (or `python`) to enter Python interactive console (REPL). \n",
    "2.  Make sure it says it's the version you installed.\n",
    "3.  Execute the following snippets of code and make sure that you get the same outputs."
   ]
  },
  {
   "cell_type": "markdown",
   "metadata": {},
   "source": [
    "## SQLAlchemy"
   ]
  },
  {
   "cell_type": "code",
   "execution_count": 1,
   "metadata": {},
   "outputs": [
    {
     "data": {
      "text/plain": [
       "'1.1.11'"
      ]
     },
     "execution_count": 1,
     "metadata": {},
     "output_type": "execute_result"
    }
   ],
   "source": [
    "import sqlalchemy\n",
    "sqlalchemy.__version__"
   ]
  },
  {
   "cell_type": "markdown",
   "metadata": {},
   "source": [
    "## Selenium"
   ]
  },
  {
   "cell_type": "code",
   "execution_count": 2,
   "metadata": {
    "collapsed": true
   },
   "outputs": [],
   "source": [
    "import selenium"
   ]
  },
  {
   "cell_type": "markdown",
   "metadata": {},
   "source": [
    "## Selenium2Library"
   ]
  },
  {
   "cell_type": "code",
   "execution_count": 3,
   "metadata": {
    "collapsed": true
   },
   "outputs": [],
   "source": [
    "import Selenium2Library"
   ]
  },
  {
   "cell_type": "markdown",
   "metadata": {},
   "source": [
    "Type `exit()` in order to exit interactive console."
   ]
  },
  {
   "cell_type": "markdown",
   "metadata": {},
   "source": [
    "## Robot Framework\n",
    "\n",
    "Run in command line:\n",
    "\n",
    "```bash\n",
    "robot --version\n",
    "```\n",
    "\n",
    "Expected output is (Robot Framework version should be 3 or older, Python version should match with the one you have installed):\n",
    "\n",
    "```\n",
    "Robot Framework 3.0.2 (Python 3.5.2+ on linux)\n",
    "```"
   ]
  },
  {
   "cell_type": "markdown",
   "metadata": {},
   "source": [
    "# 7. Install Newest Firefox\n",
    "\n",
    "Install/upgrade to the newest Firefox. Get it from https://www.mozilla.org/en-US/firefox/new/"
   ]
  },
  {
   "cell_type": "markdown",
   "metadata": {},
   "source": [
    "# 8. Install Selenium Drivers"
   ]
  },
  {
   "cell_type": "markdown",
   "metadata": {},
   "source": [
    "Install a driver for at least one browser from https://seleniumhq.github.io/selenium/docs/api/py/index.html#drivers. Preferably `geckodriver` for Firefox from https://github.com/mozilla/geckodriver/releases. Extract the binary to one of your directories that is on `PATH` environment variable (for example `~/.local/bin` on Linux or `C:\\windows\\System32` on Windows).\n",
    "\n",
    "Then, start Python interactive console again by running `python3` or `python` in command line and run the following commands:"
   ]
  },
  {
   "cell_type": "code",
   "execution_count": 4,
   "metadata": {
    "collapsed": true
   },
   "outputs": [],
   "source": [
    "from selenium import webdriver"
   ]
  },
  {
   "cell_type": "code",
   "execution_count": 5,
   "metadata": {
    "collapsed": true
   },
   "outputs": [],
   "source": [
    "driver = webdriver.Firefox()"
   ]
  },
  {
   "cell_type": "markdown",
   "metadata": {},
   "source": [
    "At this moment, Firefox should start after a few seconds."
   ]
  },
  {
   "cell_type": "code",
   "execution_count": 6,
   "metadata": {
    "collapsed": true
   },
   "outputs": [],
   "source": [
    "driver.close()"
   ]
  },
  {
   "cell_type": "markdown",
   "metadata": {},
   "source": [
    "Type `exit()` in order to exit interactive console."
   ]
  },
  {
   "cell_type": "markdown",
   "metadata": {},
   "source": [
    "# 9. Download Repository with Exercises\n",
    "\n",
    "1.  Go to <http://medrela.com/course>. You'll be redirected to a GitHub repository with exercises and courseware.\n",
    "2.  Click \"clone or download\" green button on the right side.\n",
    "3.  Download or clone repository. If you decided to download .zip archive, unpack it."
   ]
  },
  {
   "cell_type": "markdown",
   "metadata": {},
   "source": [
    "# 10. Run Jupyter Notebook\n",
    "\n",
    "1.  In command line, move to the directory with exercises and courseware that you just downloaded.\n",
    "    - On Windows, select right disk by typing `C:` or `D:` (or any other disk letter) in command line.\n",
    "    - Then, type `cd \"directory\\another directory\\yet another one\"` to move to the right directory.\n",
    "\n",
    "1.  Start Jupyter Notebook in command line:\n",
    "\n",
    "    ```bash\n",
    "    jupyter notebook\n",
    "    ```\n",
    "\n",
    "1.  Make sure you can see a new tab in your browser. \n",
    "    There should be some files and directories listed (in contrast to the screenshot below).\n",
    "\n",
    "    ![](https://blog.keras.io/img/jupyter-aws/dashboard.png)\n",
    "\n",
    "1.  Open `Installation.ipynb` notebook.\n",
    "\n",
    "1.  Click \"Cell\" in menubar, and then \"Run All\" to verify your installation again. :-)\n",
    "\n",
    "1.  If your installation is correct, all cells should be executed and your notebook should become green."
   ]
  },
  {
   "cell_type": "code",
   "execution_count": 7,
   "metadata": {
    "collapsed": true
   },
   "outputs": [],
   "source": [
    "import sys\n",
    "assert sys.version.startswith('3'), (\n",
    "    'You are not using Python 3 in Jupyter Notebook. '\n",
    "    'Change kernel to \"Python 3\" '\n",
    "    '(click \"Kernel\" in menubar, and then \"change kernel\" and select \"Python 3\".'\n",
    ")"
   ]
  },
  {
   "cell_type": "code",
   "execution_count": null,
   "metadata": {
    "collapsed": true
   },
   "outputs": [],
   "source": [
    "from IPython.display import HTML, display\n",
    "HTML('<style>#notebook-container { background-color: #44ff44 !important; }</style>')"
   ]
  }
 ],
 "metadata": {
  "kernelspec": {
   "display_name": "python-szczecin2017",
   "language": "python",
   "name": "python-szczecin2017"
  },
  "language_info": {
   "codemirror_mode": {
    "name": "ipython",
    "version": 3
   },
   "file_extension": ".py",
   "mimetype": "text/x-python",
   "name": "python",
   "nbconvert_exporter": "python",
   "pygments_lexer": "ipython3",
   "version": "3.5.2+"
  }
 },
 "nbformat": 4,
 "nbformat_minor": 2
}
