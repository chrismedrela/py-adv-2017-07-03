{
 "cells": [
  {
   "cell_type": "markdown",
   "metadata": {},
   "source": [
    "# `valid_login.robot`\n",
    "\n",
    "```\n",
    "*** Settings ***\n",
    "Library    Selenium2Library\n",
    "\n",
    "*** Test Cases ***\n",
    "Valid Login\n",
    "    Open Browser    http://localhost:7272/    Firefox\n",
    "    Maximize Browser Window\n",
    "    Set Selenium Speed    0\n",
    "    Title Should Be    Login Page\n",
    "    Input Text    username_field    demo\n",
    "    Input Text    password_field    mode\n",
    "    Click Button    login_button\n",
    "    Location Should Be    http://localhost:7272/welcome.html\n",
    "    Title Should Be    Welcome Page\n",
    "    [Teardown]    Close Browser\n",
    "```\n",
    "\n",
    "# Run Server\n",
    "\n",
    "```bash\n",
    "python3 robotframework-web/server.py\n",
    "```\n",
    "\n",
    "# Run Tests\n",
    "\n",
    "```bash\n",
    "robot valid_login.robot\n",
    "```"
   ]
  },
  {
   "cell_type": "markdown",
   "metadata": {},
   "source": [
    "# Exercise: Refactor Tests\n",
    "\n",
    "## Subexercise A\n",
    "\n",
    "Refactor tests:\n",
    "\n",
    "- Use variables for magic and duplicated values.\n",
    "- Create low-level user keywords, so that the test case is more high-level description.\n",
    "- Test case section should have the following content:\n",
    "\n",
    "```\n",
    "*** Test Cases ***\n",
    "Valid Login\n",
    "    Open Browser To Login Page\n",
    "    Input Username    demo\n",
    "    Input Password    mode\n",
    "    Submit Credentials\n",
    "    Welcome Page Should Be Open\n",
    "    [Teardown]    Close Browser\n",
    "```"
   ]
  },
  {
   "cell_type": "markdown",
   "metadata": {},
   "source": [
    "## Subexercise B: Splitting into Two Files\n",
    "\n",
    "Split the valid_login.robot file into two files: valid_login.robot and resource.robot. Later on, resource.robot will be reused in other test cases (for example invalid_login.robot).\n",
    "\n",
    "valid_login.robot should have the following content:\n",
    "\n",
    "```\n",
    "*** Settings ***\n",
    "Resource          resource.robot\n",
    "\n",
    "*** Test Cases ***\n",
    "Valid Login\n",
    "    Open Browser To Login Page\n",
    "    Input Username    demo\n",
    "    Input Password    mode\n",
    "    Submit Credentials\n",
    "    Welcome Page Should Be Open\n",
    "    [Teardown]    Close Browser\n",
    "```\n",
    "\n",
    "Everything else should live in `resource.robot`."
   ]
  },
  {
   "cell_type": "markdown",
   "metadata": {},
   "source": [
    "## Subexercise C: Write Test Cases for Invalid Login\n",
    "\n",
    "- Write one test case in `invalid_login.robot` file.\n",
    "- Use templates to cover multiple cases.\n",
    "- For an empty string, use `${EMPTY}`.\n",
    "- Open and close browser only once (use `Test Setup` and `Test Teardown` settings)."
   ]
  }
 ],
 "metadata": {
  "kernelspec": {
   "display_name": "python-szczecin2017",
   "language": "python",
   "name": "python-szczecin2017"
  },
  "language_info": {
   "codemirror_mode": {
    "name": "ipython",
    "version": 3
   },
   "file_extension": ".py",
   "mimetype": "text/x-python",
   "name": "python",
   "nbconvert_exporter": "python",
   "pygments_lexer": "ipython3",
   "version": "3.5.2+"
  }
 },
 "nbformat": 4,
 "nbformat_minor": 2
}
